{
 "cells": [
  {
   "cell_type": "code",
   "execution_count": null,
   "metadata": {},
   "outputs": [],
   "source": []
  },
  {
   "cell_type": "code",
   "execution_count": 2,
   "metadata": {},
   "outputs": [
    {
     "ename": "KeyboardInterrupt",
     "evalue": "",
     "output_type": "error",
     "traceback": [
      "\u001b[1;31m---------------------------------------------------------------------------\u001b[0m",
      "\u001b[1;31mKeyboardInterrupt\u001b[0m                         Traceback (most recent call last)",
      "Cell \u001b[1;32mIn[2], line 1\u001b[0m\n\u001b[1;32m----> 1\u001b[0m \u001b[39mimport\u001b[39;00m \u001b[39mtorch\u001b[39;00m\n\u001b[0;32m      2\u001b[0m \u001b[39mimport\u001b[39;00m \u001b[39mtorch\u001b[39;00m\u001b[39m.\u001b[39;00m\u001b[39mnn\u001b[39;00m \u001b[39mas\u001b[39;00m \u001b[39mnn\u001b[39;00m\n\u001b[0;32m      3\u001b[0m data \u001b[39m=\u001b[39m torch\u001b[39m.\u001b[39mrandn(\u001b[39m5\u001b[39m,\u001b[39m2\u001b[39m)\n",
      "File \u001b[1;32md:\\Anconda\\envs\\pytorch\\lib\\site-packages\\torch\\__init__.py:123\u001b[0m\n\u001b[0;32m    121\u001b[0m is_loaded \u001b[39m=\u001b[39m \u001b[39mFalse\u001b[39;00m\n\u001b[0;32m    122\u001b[0m \u001b[39mif\u001b[39;00m with_load_library_flags:\n\u001b[1;32m--> 123\u001b[0m     res \u001b[39m=\u001b[39m kernel32\u001b[39m.\u001b[39;49mLoadLibraryExW(dll, \u001b[39mNone\u001b[39;49;00m, \u001b[39m0x00001100\u001b[39;49m)\n\u001b[0;32m    124\u001b[0m     last_error \u001b[39m=\u001b[39m ctypes\u001b[39m.\u001b[39mget_last_error()\n\u001b[0;32m    125\u001b[0m     \u001b[39mif\u001b[39;00m res \u001b[39mis\u001b[39;00m \u001b[39mNone\u001b[39;00m \u001b[39mand\u001b[39;00m last_error \u001b[39m!=\u001b[39m \u001b[39m126\u001b[39m:\n",
      "\u001b[1;31mKeyboardInterrupt\u001b[0m: "
     ]
    }
   ],
   "source": [
    "import torch\n",
    "import torch.nn as nn\n",
    "data = torch.randn(5,2)\n",
    "linear1 = nn.Linear(in_features=2,out_features=11,bias=False)\n",
    "linear2 = nn.Linear(in_features=11,out_features=5,bias=False)\n",
    "linear3 = nn.Linear(in_features=5,out_features=1,bias=False)\n",
    "out = linear1(data)\n",
    "out = linear2(out)\n",
    "out = linear3(out)\n",
    "print(out)"
   ]
  },
  {
   "attachments": {},
   "cell_type": "markdown",
   "metadata": {},
   "source": []
  },
  {
   "cell_type": "code",
   "execution_count": null,
   "metadata": {},
   "outputs": [
    {
     "data": {
      "text/plain": [
       "tensor([[ 1.4184,  0.3414],\n",
       "        [ 1.6234,  1.4950],\n",
       "        [ 2.2137,  0.4924],\n",
       "        [-0.3170, -0.9698],\n",
       "        [-0.3500,  0.1584]])"
      ]
     },
     "execution_count": 31,
     "metadata": {},
     "output_type": "execute_result"
    }
   ],
   "source": [
    "data"
   ]
  },
  {
   "cell_type": "code",
   "execution_count": null,
   "metadata": {},
   "outputs": [
    {
     "name": "stdout",
     "output_type": "stream",
     "text": [
      "正在处理文件： H://数据集//VNAT//VNAT\\nonvpn_netflix_capture1.pcap\n",
      "正在处理文件： H://数据集//VNAT//VNAT\\nonvpn_netflix_capture2.pcap\n",
      "正在处理文件： H://数据集//VNAT//VNAT\\nonvpn_rdp_capture1.pcap\n"
     ]
    },
    {
     "ename": "KeyboardInterrupt",
     "evalue": "",
     "output_type": "error",
     "traceback": [
      "\u001b[1;31m---------------------------------------------------------------------------\u001b[0m",
      "\u001b[1;31mKeyboardInterrupt\u001b[0m                         Traceback (most recent call last)",
      "Cell \u001b[1;32mIn[1], line 19\u001b[0m\n\u001b[0;32m     16\u001b[0m     packets \u001b[39m+\u001b[39m\u001b[39m=\u001b[39m rdpcap(filepath)\n\u001b[0;32m     17\u001b[0m \u001b[39melse\u001b[39;00m:\n\u001b[0;32m     18\u001b[0m     \u001b[39m# 保存文件\u001b[39;00m\n\u001b[1;32m---> 19\u001b[0m     wrpcap(savepath\u001b[39m+\u001b[39;49m\u001b[39m\"\u001b[39;49m\u001b[39m//\u001b[39;49m\u001b[39m\"\u001b[39;49m\u001b[39m+\u001b[39;49mfile_name,packets)\n\u001b[0;32m     20\u001b[0m     \u001b[39mprint\u001b[39m(\u001b[39m\"\u001b[39m\u001b[39m保存文件：\u001b[39m\u001b[39m\"\u001b[39m,savepath\u001b[39m+\u001b[39m\u001b[39m\"\u001b[39m\u001b[39m//\u001b[39m\u001b[39m\"\u001b[39m\u001b[39m+\u001b[39mfile_name)\n\u001b[0;32m     21\u001b[0m     \u001b[39m# 修改temp\u001b[39;00m\n",
      "File \u001b[1;32m~\\AppData\\Roaming\\Python\\Python39\\site-packages\\scapy\\utils.py:1112\u001b[0m, in \u001b[0;36mwrpcap\u001b[1;34m(filename, pkt, *args, **kargs)\u001b[0m\n\u001b[0;32m   1099\u001b[0m \u001b[39m\u001b[39m\u001b[39m\"\"\"Write a list of packets to a pcap file\u001b[39;00m\n\u001b[0;32m   1100\u001b[0m \n\u001b[0;32m   1101\u001b[0m \u001b[39m:param filename: the name of the file to write packets to, or an open,\u001b[39;00m\n\u001b[1;32m   (...)\u001b[0m\n\u001b[0;32m   1109\u001b[0m \u001b[39m:param sync: do not bufferize writes to the capture file\u001b[39;00m\n\u001b[0;32m   1110\u001b[0m \u001b[39m\"\"\"\u001b[39;00m\n\u001b[0;32m   1111\u001b[0m \u001b[39mwith\u001b[39;00m PcapWriter(filename, \u001b[39m*\u001b[39margs, \u001b[39m*\u001b[39m\u001b[39m*\u001b[39mkargs) \u001b[39mas\u001b[39;00m fdesc:\n\u001b[1;32m-> 1112\u001b[0m     fdesc\u001b[39m.\u001b[39;49mwrite(pkt)\n",
      "File \u001b[1;32m~\\AppData\\Roaming\\Python\\Python39\\site-packages\\scapy\\utils.py:1916\u001b[0m, in \u001b[0;36mGenericRawPcapWriter.write\u001b[1;34m(self, pkt)\u001b[0m\n\u001b[0;32m   1909\u001b[0m \u001b[39mif\u001b[39;00m \u001b[39mnot\u001b[39;00m \u001b[39misinstance\u001b[39m(p, \u001b[39mbytes\u001b[39m) \u001b[39mand\u001b[39;00m \\\n\u001b[0;32m   1910\u001b[0m         \u001b[39mself\u001b[39m\u001b[39m.\u001b[39mlinktype \u001b[39m!=\u001b[39m conf\u001b[39m.\u001b[39ml2types\u001b[39m.\u001b[39mget(\u001b[39mtype\u001b[39m(p), \u001b[39mNone\u001b[39;00m):\n\u001b[0;32m   1911\u001b[0m     warning(\u001b[39m\"\u001b[39m\u001b[39mInconsistent linktypes detected!\u001b[39m\u001b[39m\"\u001b[39m\n\u001b[0;32m   1912\u001b[0m             \u001b[39m\"\u001b[39m\u001b[39m The resulting file might contain\u001b[39m\u001b[39m\"\u001b[39m\n\u001b[0;32m   1913\u001b[0m             \u001b[39m\"\u001b[39m\u001b[39m invalid packets.\u001b[39m\u001b[39m\"\u001b[39m\n\u001b[0;32m   1914\u001b[0m             )\n\u001b[1;32m-> 1916\u001b[0m \u001b[39mself\u001b[39;49m\u001b[39m.\u001b[39;49mwrite_packet(p)\n",
      "File \u001b[1;32m~\\AppData\\Roaming\\Python\\Python39\\site-packages\\scapy\\utils.py:1852\u001b[0m, in \u001b[0;36mGenericPcapWriter.write_packet\u001b[1;34m(self, packet, sec, usec, caplen, wirelen)\u001b[0m\n\u001b[0;32m   1848\u001b[0m     wirelen \u001b[39m=\u001b[39m caplen\n\u001b[0;32m   1850\u001b[0m comment \u001b[39m=\u001b[39m \u001b[39mgetattr\u001b[39m(packet, \u001b[39m\"\u001b[39m\u001b[39mcomment\u001b[39m\u001b[39m\"\u001b[39m, \u001b[39mNone\u001b[39;00m)\n\u001b[1;32m-> 1852\u001b[0m \u001b[39mself\u001b[39;49m\u001b[39m.\u001b[39;49m_write_packet(\n\u001b[0;32m   1853\u001b[0m     rawpkt,\n\u001b[0;32m   1854\u001b[0m     sec\u001b[39m=\u001b[39;49mf_sec, usec\u001b[39m=\u001b[39;49musec,\n\u001b[0;32m   1855\u001b[0m     caplen\u001b[39m=\u001b[39;49mcaplen, wirelen\u001b[39m=\u001b[39;49mwirelen,\n\u001b[0;32m   1856\u001b[0m     comment\u001b[39m=\u001b[39;49mcomment\n\u001b[0;32m   1857\u001b[0m )\n",
      "File \u001b[1;32m~\\AppData\\Roaming\\Python\\Python39\\site-packages\\scapy\\utils.py:2045\u001b[0m, in \u001b[0;36mRawPcapWriter._write_packet\u001b[1;34m(self, packet, sec, usec, caplen, wirelen, comment)\u001b[0m\n\u001b[0;32m   2041\u001b[0m         usec \u001b[39m=\u001b[39m \u001b[39m0\u001b[39m\n\u001b[0;32m   2043\u001b[0m \u001b[39mself\u001b[39m\u001b[39m.\u001b[39mf\u001b[39m.\u001b[39mwrite(struct\u001b[39m.\u001b[39mpack(\u001b[39mself\u001b[39m\u001b[39m.\u001b[39mendian \u001b[39m+\u001b[39m \u001b[39m\"\u001b[39m\u001b[39mIIII\u001b[39m\u001b[39m\"\u001b[39m,\n\u001b[0;32m   2044\u001b[0m                          \u001b[39mint\u001b[39m(sec), usec, caplen, wirelen))\n\u001b[1;32m-> 2045\u001b[0m \u001b[39mself\u001b[39;49m\u001b[39m.\u001b[39;49mf\u001b[39m.\u001b[39;49mwrite(packet)\n\u001b[0;32m   2046\u001b[0m \u001b[39mif\u001b[39;00m \u001b[39mself\u001b[39m\u001b[39m.\u001b[39msync:\n\u001b[0;32m   2047\u001b[0m     \u001b[39mself\u001b[39m\u001b[39m.\u001b[39mf\u001b[39m.\u001b[39mflush()\n",
      "\u001b[1;31mKeyboardInterrupt\u001b[0m: "
     ]
    }
   ],
   "source": []
  },
  {
   "cell_type": "code",
   "execution_count": 2,
   "metadata": {},
   "outputs": [
    {
     "name": "stdout",
     "output_type": "stream",
     "text": [
      "tensor([[ 0.2994, -0.8115],\n",
      "        [-1.6184, -0.8276],\n",
      "        [ 2.0103,  0.7415],\n",
      "        [ 0.0150, -1.1293],\n",
      "        [ 1.6401,  1.2361]])\n"
     ]
    },
    {
     "data": {
      "text/plain": [
       "tensor([-0.5122, -2.4459,  2.7518, -1.1142,  2.8762])"
      ]
     },
     "execution_count": 2,
     "metadata": {},
     "output_type": "execute_result"
    }
   ],
   "source": [
    "import torch\n",
    "predict = torch.randn(5,2)\n",
    "print(predict)\n",
    "torch.sum(predict, dim=-1)"
   ]
  },
  {
   "cell_type": "code",
   "execution_count": 5,
   "metadata": {},
   "outputs": [
    {
     "data": {
      "text/plain": [
       "(13, 10, 256)"
      ]
     },
     "execution_count": 5,
     "metadata": {},
     "output_type": "execute_result"
    }
   ],
   "source": [
    "import numpy as np\n",
    "data = np.load(\"data_theft_Test.npy\", allow_pickle=True)\n",
    "\n",
    "data.shape"
   ]
  },
  {
   "cell_type": "code",
   "execution_count": 5,
   "metadata": {},
   "outputs": [],
   "source": [
    "import torch\n",
    "import torch.nn as nn\n",
    "data = torch.randn(32,50,512)"
   ]
  },
  {
   "cell_type": "code",
   "execution_count": 6,
   "metadata": {},
   "outputs": [
    {
     "data": {
      "text/plain": [
       "torch.Size([32, 50, 512])"
      ]
     },
     "execution_count": 6,
     "metadata": {},
     "output_type": "execute_result"
    }
   ],
   "source": [
    "data.shape"
   ]
  },
  {
   "cell_type": "code",
   "execution_count": 7,
   "metadata": {},
   "outputs": [],
   "source": [
    "conv2d = nn.Conv2d(in_channels=1, out_channels=1, kernel_size=(3,3), stride=1, padding=1)"
   ]
  },
  {
   "cell_type": "code",
   "execution_count": 9,
   "metadata": {},
   "outputs": [
    {
     "data": {
      "text/plain": [
       "torch.Size([32, 50, 512])"
      ]
     },
     "execution_count": 9,
     "metadata": {},
     "output_type": "execute_result"
    }
   ],
   "source": [
    "conv2d(data.unsqueeze(1)).squeeze(1).shape"
   ]
  },
  {
   "cell_type": "code",
   "execution_count": 10,
   "metadata": {},
   "outputs": [
    {
     "data": {
      "text/plain": [
       "tensor([[[ 2.1232e+00, -1.1033e+00, -1.0396e+00,  ..., -1.1589e+00,\n",
       "          -2.5696e-01,  9.5461e-01],\n",
       "         [ 2.3037e+00, -5.0737e-01,  1.6097e+00,  ...,  2.3124e-01,\n",
       "           4.3202e-02, -3.0946e-01],\n",
       "         [-1.1146e+00, -5.6551e-01, -1.1475e+00,  ..., -2.0676e+00,\n",
       "           1.0574e+00,  8.4659e-01],\n",
       "         ...,\n",
       "         [ 1.4078e+00, -7.9140e-01,  7.2227e-01,  ...,  5.8564e-01,\n",
       "           4.6153e-01,  1.9822e-01],\n",
       "         [ 8.6827e-01,  5.2298e-01,  4.7574e-01,  ...,  3.1393e-01,\n",
       "           8.3026e-01, -6.2304e-01],\n",
       "         [-6.6694e-01, -2.0808e-02,  9.3699e-01,  ..., -1.6889e+00,\n",
       "          -6.4085e-01,  3.3023e-02]],\n",
       "\n",
       "        [[-4.2530e-01,  2.1253e+00, -1.9448e+00,  ...,  1.3255e+00,\n",
       "           5.7032e-01, -3.5832e-01],\n",
       "         [ 3.3338e-01, -9.5490e-01, -8.7571e-01,  ...,  1.9823e-01,\n",
       "           9.1298e-01, -1.8174e+00],\n",
       "         [ 8.3848e-01, -1.0578e+00, -6.6561e-01,  ...,  6.2038e-01,\n",
       "          -3.9202e-02,  3.1426e-01],\n",
       "         ...,\n",
       "         [-6.0373e-01,  6.5919e-01,  1.1136e+00,  ..., -6.5656e-01,\n",
       "           3.4193e-02, -5.3910e-01],\n",
       "         [-2.0928e-01, -1.3101e+00, -3.7087e-01,  ..., -1.5056e+00,\n",
       "           5.2962e-01,  1.4824e+00],\n",
       "         [-2.9257e-01, -5.4673e-01,  5.6600e-01,  ..., -1.1048e+00,\n",
       "          -6.9321e-01, -1.2073e+00]],\n",
       "\n",
       "        [[ 1.2532e+00,  1.1996e+00,  6.1563e-01,  ..., -3.4449e-01,\n",
       "          -3.3796e-01, -1.2884e+00],\n",
       "         [-3.8995e-01, -5.3993e-02, -2.3259e-01,  ..., -1.8684e-01,\n",
       "           9.6811e-01, -3.1132e-01],\n",
       "         [ 1.1548e+00,  2.0808e-01,  1.1098e+00,  ...,  4.4431e-01,\n",
       "          -5.7475e-01, -4.1971e-01],\n",
       "         ...,\n",
       "         [-7.8187e-01, -1.4817e+00, -6.3446e-01,  ...,  8.2215e-01,\n",
       "          -4.3655e-01,  3.9242e-01],\n",
       "         [-3.1597e-01, -8.3464e-01,  6.2491e-01,  ..., -2.3159e+00,\n",
       "           1.1855e-02, -2.2378e+00],\n",
       "         [-3.2338e-01, -1.4309e+00, -1.5886e+00,  ...,  5.3874e-01,\n",
       "           1.3643e+00,  6.6730e-01]],\n",
       "\n",
       "        ...,\n",
       "\n",
       "        [[ 1.1634e+00, -2.9328e-01, -8.3949e-01,  ...,  1.0111e-02,\n",
       "           3.0107e-01, -2.3497e-01],\n",
       "         [ 3.6659e-01, -9.6508e-01, -9.8058e-01,  ...,  1.0022e+00,\n",
       "           2.2381e-01, -2.2739e-01],\n",
       "         [ 7.7496e-01,  1.0238e+00, -1.5403e+00,  ..., -1.2352e+00,\n",
       "          -7.5511e-01, -2.2450e-03],\n",
       "         ...,\n",
       "         [-5.5837e-01, -2.4878e-01,  1.5356e+00,  ..., -2.5372e-01,\n",
       "           1.3665e-01,  1.1153e+00],\n",
       "         [-4.5715e-01, -1.7406e+00,  1.0962e+00,  ...,  1.8441e+00,\n",
       "           1.6201e-01, -7.5582e-01],\n",
       "         [-7.9242e-01, -1.2204e+00,  2.5822e-01,  ...,  1.1492e+00,\n",
       "          -9.9865e-01,  8.8126e-01]],\n",
       "\n",
       "        [[-9.8087e-01, -8.7147e-01,  1.3433e+00,  ...,  6.9642e-02,\n",
       "           7.9125e-01, -1.7067e-02],\n",
       "         [ 1.8428e+00, -1.1961e+00, -1.4394e+00,  ..., -1.9693e-01,\n",
       "           2.1456e+00,  3.2437e-01],\n",
       "         [ 1.2800e+00, -6.3614e-01,  5.6527e-01,  ..., -2.1680e+00,\n",
       "           2.0025e-01, -1.8720e+00],\n",
       "         ...,\n",
       "         [-3.3047e-01, -2.7102e-01,  1.4532e+00,  ...,  8.0388e-01,\n",
       "           2.8538e-01, -1.2886e+00],\n",
       "         [ 1.1295e-01, -1.0603e+00,  1.6311e-01,  ...,  5.1114e-01,\n",
       "           7.2441e-01, -9.4586e-02],\n",
       "         [-2.0956e+00, -1.2348e+00,  1.3232e-02,  ..., -9.4657e-01,\n",
       "          -2.3755e-01, -5.0358e-01]],\n",
       "\n",
       "        [[-1.9737e-01,  1.0943e+00,  1.7111e+00,  ..., -4.0430e-01,\n",
       "          -1.8696e+00, -1.1388e+00],\n",
       "         [ 6.6548e-01,  1.6820e+00, -8.3615e-01,  ...,  1.1278e+00,\n",
       "           4.0258e-01,  1.2664e+00],\n",
       "         [-3.2643e-02,  1.2627e+00,  1.3296e+00,  ..., -1.7504e+00,\n",
       "          -6.1916e-02, -1.5213e+00],\n",
       "         ...,\n",
       "         [-9.0828e-01, -1.3647e+00, -2.0535e-01,  ..., -3.3819e+00,\n",
       "          -1.0797e+00, -1.9658e-01],\n",
       "         [ 1.4263e+00, -1.5928e-01, -1.9785e+00,  ..., -2.9226e-01,\n",
       "           4.4707e-01,  2.1673e-01],\n",
       "         [ 4.4290e-01,  1.6785e+00, -1.4546e+00,  ...,  1.1296e+00,\n",
       "           8.9979e-01, -9.6394e-01]]])"
      ]
     },
     "execution_count": 10,
     "metadata": {},
     "output_type": "execute_result"
    }
   ],
   "source": [
    "data"
   ]
  },
  {
   "cell_type": "code",
   "execution_count": 12,
   "metadata": {},
   "outputs": [],
   "source": [
    "out = conv2d(data.unsqueeze(1)).squeeze(1)"
   ]
  },
  {
   "cell_type": "code",
   "execution_count": 15,
   "metadata": {},
   "outputs": [],
   "source": [
    "norm1 = nn.BatchNorm2d(1)"
   ]
  },
  {
   "cell_type": "code",
   "execution_count": 17,
   "metadata": {},
   "outputs": [],
   "source": [
    "normout = norm1(out.unsqueeze(1)).squeeze(1)"
   ]
  },
  {
   "cell_type": "code",
   "execution_count": 19,
   "metadata": {},
   "outputs": [],
   "source": [
    "maxpool = nn.MaxPool2d(kernel_size=2, stride=2)"
   ]
  },
  {
   "cell_type": "code",
   "execution_count": 20,
   "metadata": {},
   "outputs": [],
   "source": [
    "maxpoolout = maxpool(normout.unsqueeze(1)).squeeze(1)"
   ]
  },
  {
   "cell_type": "code",
   "execution_count": 21,
   "metadata": {},
   "outputs": [
    {
     "data": {
      "text/plain": [
       "torch.Size([32, 25, 256])"
      ]
     },
     "execution_count": 21,
     "metadata": {},
     "output_type": "execute_result"
    }
   ],
   "source": [
    "maxpoolout.shape"
   ]
  },
  {
   "cell_type": "code",
   "execution_count": 22,
   "metadata": {},
   "outputs": [
    {
     "data": {
      "text/plain": [
       "torch.Size([32, 12, 128])"
      ]
     },
     "execution_count": 22,
     "metadata": {},
     "output_type": "execute_result"
    }
   ],
   "source": [
    "maxpool(maxpoolout.unsqueeze(1)).squeeze(1).shape"
   ]
  },
  {
   "cell_type": "code",
   "execution_count": 3,
   "metadata": {},
   "outputs": [],
   "source": [
    "from scapy.all import *\n"
   ]
  },
  {
   "cell_type": "code",
   "execution_count": 4,
   "metadata": {},
   "outputs": [],
   "source": [
    "LLMNR = rdpcap(\"./LLMNR.pcap\")\n",
    "UDP_ = rdpcap(\"./UDP.pcap\")\n",
    "MDNS = rdpcap(\"./MDNS.pcap\")\n",
    "UDP2_ = rdpcap(\"./UDP2.pcap\")\n",
    "TCP_ = rdpcap(\"./TCP.pcap\")\n"
   ]
  },
  {
   "cell_type": "code",
   "execution_count": 49,
   "metadata": {},
   "outputs": [
    {
     "name": "stdout",
     "output_type": "stream",
     "text": [
      "###[ Ethernet ]### \n",
      "  dst       = 01:00:5e:00:00:fc\n",
      "  src       = 78:2b:cb:9f:9d:b8\n",
      "  type      = IPv4\n",
      "###[ IP ]### \n",
      "     version   = 4\n",
      "     ihl       = 5\n",
      "     tos       = 0x0\n",
      "     len       = 50\n",
      "     id        = 17406\n",
      "     flags     = \n",
      "     frag      = 0\n",
      "     ttl       = 1\n",
      "     proto     = udp\n",
      "     chksum    = 0x20a7\n",
      "     src       = 131.202.240.79\n",
      "     dst       = 224.0.0.252\n",
      "     \\options   \\\n",
      "###[ UDP ]### \n",
      "        sport     = 53609\n",
      "        dport     = llmnr\n",
      "        len       = 30\n",
      "        chksum    = 0x339b\n",
      "###[ Link Local Multicast Node Resolution - Query ]### \n",
      "           id        = 47055\n",
      "           qr        = 0\n",
      "           opcode    = QUERY\n",
      "           c         = 0\n",
      "           tc        = 0\n",
      "           z         = 0\n",
      "           rcode     = ok\n",
      "           qdcount   = 1\n",
      "           ancount   = 0\n",
      "           nscount   = 0\n",
      "           arcount   = 0\n",
      "           \\qd        \\\n",
      "            |###[ DNS Question Record ]### \n",
      "            |  qname     = 'wpad.'\n",
      "            |  qtype     = A\n",
      "            |  qclass    = IN\n",
      "           an        = None\n",
      "           ns        = None\n",
      "           ar        = None\n",
      "\n",
      "None\n",
      "Ether / IP / UDP 131.202.240.79:53609 > 224.0.0.252:llmnr / LLMNRQuery who has 'wpad.'\n"
     ]
    }
   ],
   "source": [
    "from scapy.layers.inet import *\n",
    "from scapy.layers.inet6 import *\n",
    "from scapy.layers.l2 import *\n",
    "for packet in LLMNR:\n",
    "    summary = packet.summary()\n",
    "    # print(packet[UDP].dportname)\n",
    "    print(packet.show())\n",
    "    print(summary)"
   ]
  },
  {
   "cell_type": "code",
   "execution_count": 50,
   "metadata": {},
   "outputs": [
    {
     "name": "stdout",
     "output_type": "stream",
     "text": [
      "56936\n",
      "Ether / IP / UDP 10.0.2.15:15685 > 84.248.183.50:56936 / Raw\n"
     ]
    }
   ],
   "source": [
    "from scapy.layers.inet import *\n",
    "from scapy.layers.inet6 import *\n",
    "from scapy.layers.l2 import *\n",
    "for u in UDP_:\n",
    "    # proto = udp[0].name\n",
    "    summary = u.summary()\n",
    "    print(u[UDP].dport)\n",
    "    print(summary)\n",
    "    # print(u.show())\n",
    "    # print(summary)\n",
    "    # print(proto)"
   ]
  },
  {
   "cell_type": "code",
   "execution_count": 54,
   "metadata": {},
   "outputs": [
    {
     "name": "stdout",
     "output_type": "stream",
     "text": [
      "10505\n",
      "Ether / IP / UDP 131.202.240.93:53350 > 255.255.255.255:10505 / Raw\n"
     ]
    }
   ],
   "source": [
    "from scapy.layers.inet import *\n",
    "from scapy.layers.inet6 import *\n",
    "from scapy.layers.l2 import *\n",
    "for u in UDP2_:\n",
    "    # proto = udp[0].name\n",
    "    summary = u.summary()\n",
    "    print(u[UDP].dport)\n",
    "    print(summary)\n",
    "    # print(u.show())\n",
    "    # print(summary)\n",
    "    # print(proto)"
   ]
  },
  {
   "cell_type": "code",
   "execution_count": 52,
   "metadata": {},
   "outputs": [
    {
     "name": "stdout",
     "output_type": "stream",
     "text": [
      "5353\n",
      "Ether / IPv6 / UDP / DNS Qry \"b'_ipps._tcp.local.'\" \n"
     ]
    }
   ],
   "source": [
    "from scapy.layers.inet import *\n",
    "from scapy.layers.inet6 import *\n",
    "from scapy.layers.l2 import *\n",
    "for packet in MDNS:\n",
    "    # proto = udp[0].name\n",
    "    summary = packet.summary()\n",
    "    print(packet[UDP].dport)\n",
    "    print(summary)\n",
    "    # print(u.show())\n",
    "    # print(summary)\n",
    "    # print(proto)"
   ]
  },
  {
   "cell_type": "code",
   "execution_count": 20,
   "metadata": {},
   "outputs": [
    {
     "name": "stdout",
     "output_type": "stream",
     "text": [
      "6\n",
      "b8ac6f3607cfe8e7323c6550080045000028a5400000ea06b14e59f8ab8b83caf0f2a6cd13c4732946760000000050020400bd700000000000000000\n",
      "0050020400\n",
      "0\n",
      "<class 'str'>\n",
      "60\n"
     ]
    }
   ],
   "source": [
    "from scapy.layers.inet import *\n",
    "from scapy.layers.inet6 import *\n",
    "from scapy.layers.l2 import *\n",
    "for packet in TCP_:\n",
    "    # proto = udp[0].name\n",
    "    summary = packet.summary()\n",
    "    # print(packet[UDP].dport)\n",
    "    # print(summary)\n",
    "    print(len(packet[TCP].payload))\n",
    "    print(packet.original.hex())\n",
    "    print(packet.original.hex()[90:100])\n",
    "    print(packet.original.hex()[93])\n",
    "    print(type(packet.original.hex()))\n",
    "    print(len(packet))\n",
    "\n",
    "    # print(packet)\n",
    "    # print(len(packet[TCP]))\n",
    "    # print(len(packet))\n",
    "    # print(packet[TCP].len)\n",
    "    # print(u.show())\n",
    "    # print(summary)\n",
    "    # print(proto)"
   ]
  },
  {
   "cell_type": "code",
   "execution_count": 59,
   "metadata": {},
   "outputs": [],
   "source": [
    "TCP_TSL = rdpcap(\"./TCP_TSL.pcap\")"
   ]
  },
  {
   "cell_type": "code",
   "execution_count": 61,
   "metadata": {},
   "outputs": [
    {
     "name": "stdout",
     "output_type": "stream",
     "text": [
      "Ether / IP / TCP 10.0.2.15:42855 > 74.125.207.16:465 S\n",
      "Ether / IP / TCP 74.125.207.16:465 > 10.0.2.15:42855 SA / Padding\n",
      "Ether / IP / TCP 10.0.2.15:42855 > 74.125.207.16:465 A\n",
      "Ether / IP / TCP 10.0.2.15:42855 > 74.125.207.16:465 PA / Raw\n",
      "Ether / IP / TCP 74.125.207.16:465 > 10.0.2.15:42855 A / Padding\n",
      "Ether / IP / TCP 74.125.207.16:465 > 10.0.2.15:42855 PA / Raw\n",
      "Ether / IP / TCP 10.0.2.15:42855 > 74.125.207.16:465 A\n",
      "Ether / IP / TCP 10.0.2.15:42855 > 74.125.207.16:465 PA / Raw\n",
      "Ether / IP / TCP 74.125.207.16:465 > 10.0.2.15:42855 A / Padding\n",
      "Ether / IP / TCP 74.125.207.16:465 > 10.0.2.15:42855 PA / Raw\n",
      "Ether / IP / TCP 10.0.2.15:42855 > 74.125.207.16:465 A\n",
      "Ether / IP / TCP 10.0.2.15:42855 > 74.125.207.16:465 PA / Raw\n",
      "Ether / IP / TCP 74.125.207.16:465 > 10.0.2.15:42855 A / Padding\n",
      "Ether / IP / TCP 74.125.207.16:465 > 10.0.2.15:42855 PA / Raw\n",
      "Ether / IP / TCP 10.0.2.15:42855 > 74.125.207.16:465 A\n",
      "Ether / IP / TCP 10.0.2.15:42855 > 74.125.207.16:465 PA / Raw\n",
      "Ether / IP / TCP 74.125.207.16:465 > 10.0.2.15:42855 A / Padding\n",
      "Ether / IP / TCP 74.125.207.16:465 > 10.0.2.15:42855 PA / Raw\n",
      "Ether / IP / TCP 10.0.2.15:42855 > 74.125.207.16:465 PA / Raw\n",
      "Ether / IP / TCP 74.125.207.16:465 > 10.0.2.15:42855 A / Padding\n",
      "Ether / IP / TCP 74.125.207.16:465 > 10.0.2.15:42855 PA / Raw\n",
      "Ether / IP / TCP 10.0.2.15:42855 > 74.125.207.16:465 PA / Raw\n",
      "Ether / IP / TCP 74.125.207.16:465 > 10.0.2.15:42855 A / Padding\n",
      "Ether / IP / TCP 74.125.207.16:465 > 10.0.2.15:42855 PA / Raw\n",
      "Ether / IP / TCP 10.0.2.15:42855 > 74.125.207.16:465 PA / Raw\n",
      "Ether / IP / TCP 74.125.207.16:465 > 10.0.2.15:42855 A / Padding\n",
      "Ether / IP / TCP 74.125.207.16:465 > 10.0.2.15:42855 PA / Raw\n",
      "Ether / IP / TCP 10.0.2.15:42855 > 74.125.207.16:465 PA / Raw\n",
      "Ether / IP / TCP 74.125.207.16:465 > 10.0.2.15:42855 A / Padding\n"
     ]
    }
   ],
   "source": [
    "from scapy.layers.inet import *\n",
    "from scapy.layers.inet6 import *\n",
    "from scapy.layers.l2 import *\n",
    "for packet in TCP_TSL:\n",
    "    # proto = udp[0].name\n",
    "    summary = packet.summary()\n",
    "    # print(packet[UDP].dport)\n",
    "    print(summary)\n",
    "    # print(u.show())\n",
    "    # print(summary)\n",
    "    # print(proto)"
   ]
  },
  {
   "cell_type": "code",
   "execution_count": 1,
   "metadata": {},
   "outputs": [],
   "source": [
    "import torch"
   ]
  },
  {
   "cell_type": "code",
   "execution_count": 2,
   "metadata": {},
   "outputs": [],
   "source": [
    "\n",
    "x = torch.randn(32,1,10,512)"
   ]
  },
  {
   "cell_type": "code",
   "execution_count": 7,
   "metadata": {},
   "outputs": [],
   "source": [
    "import torch.nn as nn\n",
    "conv2d = nn.Conv2d(in_channels=1, out_channels=96, kernel_size=(4,4), stride=(4,4), padding=1)"
   ]
  },
  {
   "cell_type": "code",
   "execution_count": 8,
   "metadata": {},
   "outputs": [
    {
     "data": {
      "text/plain": [
       "torch.Size([32, 96, 3, 128])"
      ]
     },
     "execution_count": 8,
     "metadata": {},
     "output_type": "execute_result"
    }
   ],
   "source": [
    "conv2d(x).shape"
   ]
  },
  {
   "cell_type": "code",
   "execution_count": null,
   "metadata": {},
   "outputs": [],
   "source": [
    "from PIL import Image\n",
    "\n",
    "# Load the original image (10x1500 grayscale)\n",
    "original_image = Image.open(\"original_image.png\").convert(\"L\")\n",
    "\n",
    "# Target dimensions\n",
    "target_width = 224\n",
    "target_height = 224\n",
    "\n",
    "# Calculate the aspect ratio\n",
    "original_width, original_height = original_image.size # (1500, 10)\n",
    "aspect_ratio = original_width / original_height       # 150.0 \n",
    "\n",
    "# Calculate the new width after maintaining the aspect ratio\n",
    "new_width = int(target_height * aspect_ratio)         # 33600\n",
    "\n",
    "# Resize the image while maintaining the aspect ratio\n",
    "resized_image = original_image.resize((new_width, target_height), Image.ANTIALIAS) # (33600, 224)\n",
    "\n",
    "# Create a new blank image of the target size (224x224)\n",
    "target_image = Image.new(\"L\", (target_width, target_height), color=255)\n",
    "\n",
    "# Calculate the horizontal position to paste the resized image\n",
    "paste_x = (target_width - new_width) // 2\n",
    "\n",
    "# Paste the resized image onto the target image\n",
    "target_image.paste(resized_image, (paste_x, 0))\n",
    "\n",
    "# Save the resulting image\n",
    "target_image.save(\"target_image.png\")\n"
   ]
  }
 ],
 "metadata": {
  "kernelspec": {
   "display_name": "pytorch",
   "language": "python",
   "name": "python3"
  },
  "language_info": {
   "codemirror_mode": {
    "name": "ipython",
    "version": 3
   },
   "file_extension": ".py",
   "mimetype": "text/x-python",
   "name": "python",
   "nbconvert_exporter": "python",
   "pygments_lexer": "ipython3",
   "version": "3.9.16"
  },
  "orig_nbformat": 4
 },
 "nbformat": 4,
 "nbformat_minor": 2
}
