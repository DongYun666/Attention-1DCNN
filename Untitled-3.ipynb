{
 "cells": [
  {
   "cell_type": "code",
   "execution_count": 26,
   "metadata": {},
   "outputs": [
    {
     "data": {
      "text/plain": [
       "array([3, 0, 5, 3, 5, 5, 0, 5, 0, 0, 5, 0, 5, 5, 0, 0, 0, 0, 0, 0, 0, 0,\n",
       "       0, 0, 0, 0, 1, 1, 1, 1, 1, 1, 1, 4, 4, 2, 2, 2, 2, 2, 2, 2, 2, 2,\n",
       "       2, 2, 2, 2, 2, 2])"
      ]
     },
     "execution_count": 26,
     "metadata": {},
     "output_type": "execute_result"
    }
   ],
   "source": [
    "import numpy as np\n",
    "output = np.load('./outputs.npy',allow_pickle=True)\n",
    "output[:50]"
   ]
  },
  {
   "cell_type": "code",
   "execution_count": 21,
   "metadata": {},
   "outputs": [
    {
     "data": {
      "text/plain": [
       "array([0, 0, 0, 0, 0, 0, 0, 0, 0, 0, 0, 0, 0, 0, 0, 0, 0, 0, 0, 0, 0, 0,\n",
       "       0, 0, 0, 0, 1, 1, 1, 1, 1, 1, 1, 2, 2, 2, 2, 2, 2, 2, 2, 2, 2, 2,\n",
       "       2, 2, 2, 2, 2, 2])"
      ]
     },
     "execution_count": 21,
     "metadata": {},
     "output_type": "execute_result"
    }
   ],
   "source": [
    "labels = np.load('./labels.npy',allow_pickle=True)\n",
    "labels[:50]"
   ]
  },
  {
   "cell_type": "code",
   "execution_count": 22,
   "metadata": {},
   "outputs": [],
   "source": [
    "chat = [0, 4, 0, 0, 4, 4, 0, 4, 0, 0, 0, 0, 0, 0, 0, 0, 0, 0, 1, 0, 0, 4, 0, 0, 4, 4, 0, 0,]\n",
    "chat = [3, 0, 0, 0, 0, 5, 0, 0, 0, 0, 5, 5, 0, 0, 5, 5, 0, 0, 0, 0, 0, 0, 0, 0, 0, 0, 0, 0, 0]\n",
    "chat = [3, 0, 5, 3, 0, 5, 0, 0, 0, 0, 5, 0, 0, 0, 0, 0, 0, 0, 0, 0, 0, 0, 0, 0, 0, 0,]"
   ]
  },
  {
   "cell_type": "code",
   "execution_count": 23,
   "metadata": {},
   "outputs": [
    {
     "name": "stdout",
     "output_type": "stream",
     "text": [
      "J:/dataset/NOTOR/Test/dataset/novpn_chat\\facebookchat.pcap.TCP_10-152-152-10_9052_10-152-152-11_42454.pcap 3\n",
      "J:/dataset/NOTOR/Test/dataset/novpn_chat\\facebookchat.pcap.TCP_10-152-152-11_41066_31-13-93-7_443.pcap 5\n",
      "J:/dataset/NOTOR/Test/dataset/novpn_chat\\facebookchat.pcap.TCP_2-16-162-49_443_10-152-152-11_56691.pcap 3\n",
      "J:/dataset/NOTOR/Test/dataset/novpn_chat\\facebookchat.pcap.TCP_2-22-9-25_443_10-152-152-11_37491.pcap 5\n",
      "J:/dataset/NOTOR/Test/dataset/novpn_chat\\hangoutschat.pcap.TCP_10-152-152-11_52161_74-125-228-238_443.pcap 5\n"
     ]
    }
   ],
   "source": [
    "import os\n",
    "\n",
    "filepath = \"J:/dataset/NOTOR/Test/dataset/novpn_chat\"\n",
    "file_paths = [os.path.join(filepath, fname) for fname in os.listdir(filepath)]\n",
    "for i in range(len(chat)):\n",
    "    if chat[i] != 0:\n",
    "        print(file_paths[i],chat[i])"
   ]
  },
  {
   "cell_type": "code",
   "execution_count": 10,
   "metadata": {},
   "outputs": [],
   "source": [
    "ftp = [4, 4, 4, 2, 2, 2, 2, 2, 2, 2, 2,\n",
    "       2, 2, 2, 2, 2, 2, 2, 2, 2, 2, 2, 2, 2, 2, 2, 2, 2, 2, 2, 2, 2, 2,\n",
    "       2, 2, 2, 2, 2, 2, 2, 2, 2, 2, 2, 2, 2, 2, 2, 2, 2, 2, 2, 2, 2, 2,\n",
    "       2, 2, 2, 2, 2, 2, 2, 2, 2, 2, 2, 2, 2, 2, 2, 2, 2, 2, 2, 2, 2, 2,\n",
    "       2, 2, 2, 2, 2, 2, 2, 4, 2, 2, 2, 2, 2, 2, 2, 2, 2, 2, 2, 2, 2, 2,\n",
    "       2, 2, 2, 2, 2, 2, 2, 2, 2, 2, 2, 2, 2, 2, 2, 2, 2, 2, 2, 2, 2, 2,\n",
    "       2, 2, 2, 2, 2, 2, 2, 2, 2, 2, 2, 2, 2, 2, 2, 2, 2, 2, 2, 2, 2, 2,\n",
    "       2, 2, 2, 2, 2, 2, 2, 2, 2, 2, 2, 2, 2, 2, 2, 1]\n"
   ]
  },
  {
   "cell_type": "code",
   "execution_count": 13,
   "metadata": {},
   "outputs": [
    {
     "name": "stdout",
     "output_type": "stream",
     "text": [
      "J:/dataset/NOTOR/Test/dataset/novpn_ftp\\FTP_filetransfer.pcap.TCP_10-152-152-10_9052_10-152-152-11_34190.pcap 4\n",
      "J:/dataset/NOTOR/Test/dataset/novpn_ftp\\FTP_filetransfer.pcap.TCP_10-152-152-10_9052_10-152-152-11_34212.pcap 4\n",
      "J:/dataset/NOTOR/Test/dataset/novpn_ftp\\FTP_filetransfer.pcap.TCP_10-152-152-10_9110_10-152-152-11_40076.pcap 4\n",
      "J:/dataset/NOTOR/Test/dataset/novpn_ftp\\FTP_filetransfer.pcap.TCP_10-152-152-11_46976_75-101-155-12_1830.pcap 4\n",
      "J:/dataset/NOTOR/Test/dataset/novpn_ftp\\POP_filetransfer.pcap.TCP_10-152-152-11_59253_74-125-133-16_995.pcap 1\n"
     ]
    }
   ],
   "source": [
    "filepath = \"J:/dataset/NOTOR/Test/dataset/novpn_ftp\"\n",
    "file_paths = [os.path.join(filepath, fname) for fname in os.listdir(filepath)]\n",
    "for i in range(len(ftp)):\n",
    "    if ftp[i] != 2:\n",
    "        print(file_paths[i],ftp[i])"
   ]
  },
  {
   "cell_type": "code",
   "execution_count": 19,
   "metadata": {},
   "outputs": [
    {
     "name": "stdout",
     "output_type": "stream",
     "text": [
      "J:/dataset/NOTOR/Test/dataset/novpn_voip\\Facebook_Voice_Workstation.pcap.TCP_10-152-152-11_42131_31-13-93-3_443.pcap 0\n",
      "J:/dataset/NOTOR/Test/dataset/novpn_voip\\Facebook_Voice_Workstation.pcap.TCP_10-152-152-11_59039_173-194-113-68_443.pcap 4\n",
      "J:/dataset/NOTOR/Test/dataset/novpn_voip\\Hangouts_voice_Workstation.pcap.TCP_10-152-152-11_52115_173-194-112-37_443.pcap 4\n",
      "J:/dataset/NOTOR/Test/dataset/novpn_voip\\Skype_Voice_Workstation.pcap.TCP_10-152-152-11_38769_77-120-75-16_14375.pcap 3\n",
      "J:/dataset/NOTOR/Test/dataset/novpn_voip\\Skype_Voice_Workstation.pcap.TCP_10-152-152-11_43612_151-249-131-19_16035.pcap 3\n",
      "J:/dataset/NOTOR/Test/dataset/novpn_voip\\Skype_Voice_Workstation.pcap.TCP_10-152-152-11_45141_84-2-171-184_4363.pcap 3\n",
      "J:/dataset/NOTOR/Test/dataset/novpn_voip\\Skype_Voice_Workstation.pcap.TCP_10-152-152-11_50795_128-71-58-141_22135.pcap 3\n",
      "J:/dataset/NOTOR/Test/dataset/novpn_voip\\Skype_Voice_Workstation.pcap.TCP_10-152-152-11_52874_91-158-174-93_51109.pcap 3\n"
     ]
    }
   ],
   "source": [
    "voip = [5, 5, 0, 5, 4, 5, 5, 5, 5, 5, 5, 5, 5, 4, 5, 5, 5, 5,\n",
    "       5, 5, 3, 5, 3, 3, 5, 5, 5, 3, 3, 5, 5, 5, 5, 5, 5, 5, 5, 5, 5, 5,\n",
    "       5, 5, 5, 5, 5, 5, 5, 5, 5, 5, 5, 5]\n",
    "filepath = \"J:/dataset/NOTOR/Test/dataset/novpn_voip\"\n",
    "file_paths = [os.path.join(filepath, fname) for fname in os.listdir(filepath)]\n",
    "for i in range(len(voip)):\n",
    "    if voip[i] != 5:\n",
    "        print(file_paths[i],voip[i])"
   ]
  },
  {
   "cell_type": "code",
   "execution_count": 4,
   "metadata": {},
   "outputs": [],
   "source": [
    "\n",
    "from scapy.all import *\n",
    "from scapy.layers.inet import *\n",
    "from scapy.layers.inet6 import *\n",
    "from scapy.layers.l2 import *"
   ]
  },
  {
   "cell_type": "code",
   "execution_count": 14,
   "metadata": {},
   "outputs": [],
   "source": [
    "packets = rdpcap('./aim_chat_3a.pcap.TCP_131-202-6-26_13000_131-202-240-87_64721.pcap')"
   ]
  },
  {
   "cell_type": "code",
   "execution_count": 15,
   "metadata": {},
   "outputs": [
    {
     "name": "stdout",
     "output_type": "stream",
     "text": [
      "b'\\xe8\\xe72<eP\\xb8\\xaco6\\x1c\\xa2\\x08\\x00E\\x00\\x004\\r\\xf6@\\x00\\x80\\x06\\xee\\xc7\\x83\\xca\\xf0W\\x83\\xca\\x06\\x1a\\xfc\\xd12\\xc8\\xd4OpD\\x00\\x00\\x00\\x00\\x80\\x02\\xff\\xff\\xfc\\xe2\\x00\\x00\\x02\\x04\\x05\\xb4\\x01\\x03\\x03\\x01\\x01\\x01\\x04\\x02'\n",
      "[0.90980392 0.90588235 0.19607843 0.23529412 0.39607843 0.31372549\n",
      " 0.72156863 0.6745098  0.43529412 0.21176471 0.10980392 0.63529412\n",
      " 0.03137255 0.         0.27058824 0.         0.         0.20392157\n",
      " 0.05098039 0.96470588 0.25098039 0.         0.50196078 0.02352941\n",
      " 0.93333333 0.78039216 0.51372549 0.79215686 0.94117647 0.34117647\n",
      " 0.51372549 0.79215686 0.02352941 0.10196078 0.98823529 0.81960784\n",
      " 0.19607843 0.78431373 0.83137255 0.30980392 0.43921569 0.26666667\n",
      " 0.         0.         0.         0.         0.50196078 0.00784314\n",
      " 1.         1.         0.98823529 0.88627451 0.         0.\n",
      " 0.00784314 0.01568627 0.01960784 0.70588235 0.00392157 0.01176471\n",
      " 0.01176471 0.00392157 0.00392157 0.00392157 0.01568627 0.00784314]\n",
      "b'\\xe8\\xe72<eP\\xb8\\xaco6\\x1c\\xa2\\x08\\x00E\\x00\\x004\\r\\xf6@\\x00\\x80\\x06\\xee\\xc7\\x00\\x00\\x00\\x00\\x00\\x00\\x00\\x00\\xfc\\xd12\\xc8\\xd4OpD\\x00\\x00\\x00\\x00\\x80\\x02\\xff\\xff\\xfc\\xe2\\x00\\x00\\x02\\x04\\x05\\xb4\\x01\\x03\\x03\\x01\\x01\\x01\\x04\\x02'\n",
      "[0.90980392 0.90588235 0.19607843 0.23529412 0.39607843 0.31372549\n",
      " 0.72156863 0.6745098  0.43529412 0.21176471 0.10980392 0.63529412\n",
      " 0.03137255 0.         0.27058824 0.         0.         0.20392157\n",
      " 0.05098039 0.96470588 0.25098039 0.         0.50196078 0.02352941\n",
      " 0.93333333 0.78039216 0.         0.         0.         0.\n",
      " 0.         0.         0.         0.         0.98823529 0.81960784\n",
      " 0.19607843 0.78431373 0.83137255 0.30980392 0.43921569 0.26666667\n",
      " 0.         0.         0.         0.         0.50196078 0.00784314\n",
      " 1.         1.         0.98823529 0.88627451 0.         0.\n",
      " 0.00784314 0.01568627 0.01960784 0.70588235 0.00392157 0.01176471\n",
      " 0.01176471 0.00392157 0.00392157 0.00392157 0.01568627 0.00784314]\n"
     ]
    }
   ],
   "source": [
    "import numpy as np \n",
    "for packet in packets:\n",
    "    print(raw(packet))\n",
    "    hex_list = np.frombuffer(raw(packet), dtype=np.uint8)/255\n",
    "    print(hex_list)\n",
    "    if packet.haslayer(IP):\n",
    "        packet[IP].src = \"0.0.0.0\"\n",
    "        packet[IP].dst = \"0.0.0.0\"\n",
    "    print(raw(packet))\n",
    "    hex_list = np.frombuffer(raw(packet), dtype=np.uint8)/255\n",
    "    print(hex_list)\n",
    "    break\n",
    "    "
   ]
  },
  {
   "cell_type": "code",
   "execution_count": null,
   "metadata": {},
   "outputs": [],
   "source": []
  }
 ],
 "metadata": {
  "kernelspec": {
   "display_name": "pytorch",
   "language": "python",
   "name": "python3"
  },
  "language_info": {
   "codemirror_mode": {
    "name": "ipython",
    "version": 3
   },
   "file_extension": ".py",
   "mimetype": "text/x-python",
   "name": "python",
   "nbconvert_exporter": "python",
   "pygments_lexer": "ipython3",
   "version": "3.9.16"
  },
  "orig_nbformat": 4
 },
 "nbformat": 4,
 "nbformat_minor": 2
}
